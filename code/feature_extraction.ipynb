{
 "cells": [
  {
   "cell_type": "markdown",
   "metadata": {},
   "source": [
    "- create clusters\n",
    "- define features\n",
    "- edf to numpy\n",
    "- segment subsegments and clusters\n",
    "- extract features to a vector\n",
    "- combine vectors for each channel to a matrix\n"
   ]
  },
  {
   "cell_type": "code",
   "execution_count": 1,
   "metadata": {},
   "outputs": [
    {
     "name": "stderr",
     "output_type": "stream",
     "text": [
      "/home/codespace/.local/lib/python3.10/site-packages/IPython/extensions/storemagic.py:148: UserWarning: This is now an optional IPython functionality, using autorestore/clusters_seizure requires you to install the `pickleshare` library.\n",
      "  obj = db[\"autorestore/\" + arg]\n",
      "/home/codespace/.local/lib/python3.10/site-packages/IPython/extensions/storemagic.py:148: UserWarning: This is now an optional IPython functionality, using autorestore/clusters_nonseizure requires you to install the `pickleshare` library.\n",
      "  obj = db[\"autorestore/\" + arg]\n"
     ]
    }
   ],
   "source": [
    "%store -r clusters_seizure\n",
    "%store -r clusters_nonseizure"
   ]
  },
  {
   "cell_type": "markdown",
   "metadata": {},
   "source": [
    "## Define features "
   ]
  },
  {
   "cell_type": "markdown",
   "metadata": {},
   "source": [
    "{XMe, XMax, XMin, XMean, XMod, XRand, XQ1, XQ2, XSD, XVar, XSke, XKue}"
   ]
  },
  {
   "cell_type": "code",
   "execution_count": 9,
   "metadata": {},
   "outputs": [
    {
     "name": "stdout",
     "output_type": "stream",
     "text": [
      "Median: 4.0\n",
      "Maximum: 7\n",
      "Minimum: 1\n",
      "Mean: 3.8\n",
      "Mode: 4\n",
      "Random Sample: 4\n",
      "1st Quartile: 2.25\n",
      "2nd Quartile (Median): 4.0\n",
      "Standard Deviation: 1.8737959096740262\n",
      "Variance: 3.511111111111111\n",
      "Skewness: 0.19653434218707813\n",
      "Kurtosis: -0.864605031244992\n"
     ]
    }
   ],
   "source": [
    "import numpy as np\n",
    "from scipy import stats\n",
    "import statistics\n",
    "\n",
    "# Example time series data\n",
    "X = np.array([1, 2, 2, 3, 4, 4, 4, 5, 6, 7])\n",
    "\n",
    "# Compute features\n",
    "XMe = np.median(X)\n",
    "XMax = np.max(X)\n",
    "XMin = np.min(X)\n",
    "XMean = np.mean(X)\n",
    "\n",
    "mode_result = stats.mode(X)\n",
    "XMod = statistics.mode(X)\n",
    "XRand = np.random.choice(X)\n",
    "XQ1 = np.percentile(X, 25)\n",
    "XQ2 = np.percentile(X, 50)  # Same as median\n",
    "XSD = np.std(X, ddof=1)  # Using Bessel's correction (ddof=1)\n",
    "XVar = np.var(X, ddof=1)  # Using Bessel's correction (ddof=1)\n",
    "XSke = stats.skew(X)\n",
    "XKue = stats.kurtosis(X, fisher=True)  # Fisher's definition, subtracts 3\n",
    "\n",
    "# Print results\n",
    "print(f\"Median: {XMe}\")\n",
    "print(f\"Maximum: {XMax}\")\n",
    "print(f\"Minimum: {XMin}\")\n",
    "print(f\"Mean: {XMean}\")\n",
    "print(f\"Mode: {XMod}\")\n",
    "print(f\"Random Sample: {XRand}\")\n",
    "print(f\"1st Quartile: {XQ1}\")\n",
    "print(f\"2nd Quartile (Median): {XQ2}\")\n",
    "print(f\"Standard Deviation: {XSD}\")\n",
    "print(f\"Variance: {XVar}\")\n",
    "print(f\"Skewness: {XSke}\")\n",
    "print(f\"Kurtosis: {XKue}\")\n"
   ]
  },
  {
   "cell_type": "markdown",
   "metadata": {},
   "source": []
  }
 ],
 "metadata": {
  "kernelspec": {
   "display_name": "Python 3",
   "language": "python",
   "name": "python3"
  },
  "language_info": {
   "codemirror_mode": {
    "name": "ipython",
    "version": 3
   },
   "file_extension": ".py",
   "mimetype": "text/x-python",
   "name": "python",
   "nbconvert_exporter": "python",
   "pygments_lexer": "ipython3",
   "version": "3.10.13"
  }
 },
 "nbformat": 4,
 "nbformat_minor": 2
}
