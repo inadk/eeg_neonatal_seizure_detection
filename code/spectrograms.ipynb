{
 "cells": [
  {
   "cell_type": "markdown",
   "metadata": {},
   "source": [
    "create spectograms from the 10s eeg recording segments for training a cnn\n",
    "\n",
    "https://www.kaggle.com/code/cdeotte/how-to-make-spectrogram-from-eeg"
   ]
  }
 ],
 "metadata": {
  "language_info": {
   "name": "python"
  }
 },
 "nbformat": 4,
 "nbformat_minor": 2
}
